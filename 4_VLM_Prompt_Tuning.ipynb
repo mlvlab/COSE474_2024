{
  "nbformat": 4,
  "nbformat_minor": 0,
  "metadata": {
    "colab": {
      "provenance": [],
      "toc_visible": true
    },
    "kernelspec": {
      "name": "python3",
      "display_name": "Python 3"
    },
    "language_info": {
      "name": "python"
    }
  },
  "cells": [
    {
      "cell_type": "markdown",
      "source": [
        "# Lab Session 4.Vision-Language Model (VLM) Prompt Tuning\n",
        "\n",
        "## Contents\n",
        "[1] Preparation \\\n",
        "[2] Load pre-trained CLIP Model \\\n",
        "[3] CoOpCLIP Implementation \\\n",
        "[4] CoOpCLIP Training\n",
        "\n",
        "\n",
        "## References\n",
        "- Learning to Prompt for Vision-Language Models (CoOp): https://github.com/KaiyangZhou/CoOp\n",
        "- Prompt Learning via Meta-Regularization (ProMetaR): https://github.com/mlvlab/ProMetaR"
      ],
      "metadata": {
        "id": "SlXBcE5Jyasd"
      }
    },
    {
      "cell_type": "markdown",
      "source": [
        "---\n",
        "# [1] Preparation"
      ],
      "metadata": {
        "id": "33ucm40jy2ob"
      }
    },
    {
      "cell_type": "markdown",
      "source": [
        "#### 1. Clone github repository"
      ],
      "metadata": {
        "id": "0k0iyRGO3nxY"
      }
    },
    {
      "cell_type": "code",
      "source": [
        "!git clone https://github.com/mlvlab/ProMetaR.git"
      ],
      "metadata": {
        "id": "p_N1HeFoj5Me",
        "colab": {
          "base_uri": "https://localhost:8080/"
        },
        "outputId": "fdab044f-eb14-4470-f452-c16fdb5d09ea"
      },
      "execution_count": null,
      "outputs": [
        {
          "output_type": "stream",
          "name": "stdout",
          "text": [
            "fatal: destination path 'ProMetaR' already exists and is not an empty directory.\n"
          ]
        }
      ]
    },
    {
      "cell_type": "markdown",
      "source": [
        "- It will make ProMetaR folder on left side."
      ],
      "metadata": {
        "id": "TbtCGMbbKR37"
      }
    },
    {
      "cell_type": "markdown",
      "source": [
        "#### 2. Install Requirements"
      ],
      "metadata": {
        "id": "HZirgCYRzAia"
      }
    },
    {
      "cell_type": "code",
      "source": [
        "%cd ProMetaR/\n",
        "\n",
        "#!git clone https://github.com/KaiyangZhou/Dassl.pytorch.git\n",
        "%cd Dassl.pytorch/\n",
        "\n",
        "# Install dependencies\n",
        "#!pip install -r requirements.txt\n",
        "#!cp -r dassl ../\n",
        "# Install this library (no need to re-build if the source code is modified)\n",
        "# !python setup.py develop\n",
        "%cd ..\n",
        "\n",
        "!pip install -r requirements.txt"
      ],
      "metadata": {
        "id": "MsVCEqXpzBjg"
      },
      "execution_count": null,
      "outputs": []
    },
    {
      "cell_type": "markdown",
      "source": [
        "- *If an error occurs, click ‘Run Session Again’ and then restart the runtime from the beginning.*"
      ],
      "metadata": {
        "id": "ryx2uX_0G3h6"
      }
    },
    {
      "cell_type": "markdown",
      "source": [
        "#### 3. Load Requirements and functions"
      ],
      "metadata": {
        "id": "Mm5Yl16mCUnA"
      }
    },
    {
      "cell_type": "code",
      "source": [
        "import os.path as osp\n",
        "from collections import OrderedDict\n",
        "import math\n",
        "import torch\n",
        "import torch.nn as nn\n",
        "from torch.nn import functional as F\n",
        "from torch.cuda.amp import GradScaler, autocast\n",
        "from PIL import Image\n",
        "import torchvision.transforms as transforms\n",
        "import torch\n",
        "from clip import clip\n",
        "from clip.simple_tokenizer import SimpleTokenizer as _Tokenizer\n",
        "import time\n",
        "from tqdm import tqdm\n",
        "import datetime\n",
        "import argparse\n",
        "from dassl.utils import setup_logger, set_random_seed, collect_env_info\n",
        "from dassl.config import get_cfg_default\n",
        "from dassl.engine import build_trainer\n",
        "from dassl.engine import TRAINER_REGISTRY, TrainerX\n",
        "from dassl.metrics import compute_accuracy\n",
        "from dassl.utils import load_pretrained_weights, load_checkpoint\n",
        "from dassl.optim import build_optimizer, build_lr_scheduler\n",
        "\n",
        "# custom\n",
        "import datasets.oxford_pets\n",
        "import datasets.oxford_flowers\n",
        "import datasets.fgvc_aircraft\n",
        "import datasets.dtd\n",
        "import datasets.eurosat\n",
        "import datasets.stanford_cars\n",
        "import datasets.food101\n",
        "import datasets.sun397\n",
        "import datasets.caltech101\n",
        "import datasets.ucf101\n",
        "import datasets.imagenet\n",
        "import datasets.imagenet_sketch\n",
        "import datasets.imagenetv2\n",
        "import datasets.imagenet_a\n",
        "import datasets.imagenet_r"
      ],
      "metadata": {
        "id": "Tck2BxWu17UB"
      },
      "execution_count": null,
      "outputs": []
    },
    {
      "cell_type": "code",
      "source": [
        "def print_args(args, cfg):\n",
        "    print(\"***************\")\n",
        "    print(\"** Arguments **\")\n",
        "    print(\"***************\")\n",
        "    optkeys = list(args.__dict__.keys())\n",
        "    optkeys.sort()\n",
        "    for key in optkeys:\n",
        "        print(\"{}: {}\".format(key, args.__dict__[key]))\n",
        "    print(\"************\")\n",
        "    print(\"** Config **\")\n",
        "    print(\"************\")\n",
        "    print(cfg)\n",
        "\n",
        "def reset_cfg(cfg, args):\n",
        "    if args.root:\n",
        "        cfg.DATASET.ROOT = args.root\n",
        "    if args.output_dir:\n",
        "        cfg.OUTPUT_DIR = args.output_dir\n",
        "    if args.seed:\n",
        "        cfg.SEED = args.seed\n",
        "    if args.trainer:\n",
        "        cfg.TRAINER.NAME = args.trainer\n",
        "    cfg.DATASET.NUM_SHOTS = 16\n",
        "    cfg.DATASET.SUBSAMPLE_CLASSES = args.subsample_classes\n",
        "    cfg.DATALOADER.TRAIN_X.BATCH_SIZE = args.train_batch_size\n",
        "    cfg.OPTIM.MAX_EPOCH = args.epoch\n",
        "\n",
        "def extend_cfg(cfg):\n",
        "    \"\"\"\n",
        "    Add new config variables.\n",
        "    \"\"\"\n",
        "    from yacs.config import CfgNode as CN\n",
        "    cfg.TRAINER.COOP = CN()\n",
        "    cfg.TRAINER.COOP.N_CTX = 16  # number of context vectors\n",
        "    cfg.TRAINER.COOP.CSC = False  # class-specific context\n",
        "    cfg.TRAINER.COOP.CTX_INIT = \"\"  # initialization words\n",
        "    cfg.TRAINER.COOP.PREC = \"fp16\"  # fp16, fp32, amp\n",
        "    cfg.TRAINER.COOP.CLASS_TOKEN_POSITION = \"end\"  # 'middle' or 'end' or 'front'\n",
        "    cfg.TRAINER.COCOOP = CN()\n",
        "    cfg.TRAINER.COCOOP.N_CTX = 4  # number of context vectors\n",
        "    cfg.TRAINER.COCOOP.CTX_INIT = \"a photo of a\"  # initialization words\n",
        "    cfg.TRAINER.COCOOP.PREC = \"fp16\"  # fp16, fp32, amp\n",
        "    cfg.TRAINER.PROMETAR = CN()\n",
        "    cfg.TRAINER.PROMETAR.N_CTX_VISION = 4  # number of context vectors at the vision branch\n",
        "    cfg.TRAINER.PROMETAR.N_CTX_TEXT = 4  # number of context vectors at the language branch\n",
        "    cfg.TRAINER.PROMETAR.CTX_INIT = \"a photo of a\"  # initialization words\n",
        "    cfg.TRAINER.PROMETAR.PREC = \"fp16\"  # fp16, fp32, amp\n",
        "    cfg.TRAINER.PROMETAR.PROMPT_DEPTH_VISION = 9  # Max 12, minimum 0, for 0 it will be using shallow IVLP prompting (J=1)\n",
        "    cfg.TRAINER.PROMETAR.PROMPT_DEPTH_TEXT = 9  # Max 12, minimum 0, for 0 it will be using shallow IVLP prompting (J=1)\n",
        "    cfg.DATASET.SUBSAMPLE_CLASSES = \"all\"  # all, base or new\n",
        "    cfg.TRAINER.PROMETAR.ADAPT_LR = 0.0005\n",
        "    cfg.TRAINER.PROMETAR.LR_RATIO = 0.0005\n",
        "    cfg.TRAINER.PROMETAR.FAST_ADAPTATION = False\n",
        "    cfg.TRAINER.PROMETAR.MIXUP_ALPHA = 0.5\n",
        "    cfg.TRAINER.PROMETAR.MIXUP_BETA = 0.5\n",
        "    cfg.TRAINER.PROMETAR.DIM_RATE=8\n",
        "    cfg.OPTIM_VNET = CN()\n",
        "    cfg.OPTIM_VNET.NAME = \"adam\"\n",
        "    cfg.OPTIM_VNET.LR = 0.0003\n",
        "    cfg.OPTIM_VNET.WEIGHT_DECAY = 5e-4\n",
        "    cfg.OPTIM_VNET.MOMENTUM = 0.9\n",
        "    cfg.OPTIM_VNET.SGD_DAMPNING = 0\n",
        "    cfg.OPTIM_VNET.SGD_NESTEROV = False\n",
        "    cfg.OPTIM_VNET.RMSPROP_ALPHA = 0.99\n",
        "    cfg.OPTIM_VNET.ADAM_BETA1 = 0.9\n",
        "    cfg.OPTIM_VNET.ADAM_BETA2 = 0.999\n",
        "    cfg.OPTIM_VNET.STAGED_LR = False\n",
        "    cfg.OPTIM_VNET.NEW_LAYERS = ()\n",
        "    cfg.OPTIM_VNET.BASE_LR_MULT = 0.1\n",
        "    # Learning rate scheduler\n",
        "    cfg.OPTIM_VNET.LR_SCHEDULER = \"single_step\"\n",
        "    # -1 or 0 means the stepsize is equal to max_epoch\n",
        "    cfg.OPTIM_VNET.STEPSIZE = (-1, )\n",
        "    cfg.OPTIM_VNET.GAMMA = 0.1\n",
        "    cfg.OPTIM_VNET.MAX_EPOCH = 10\n",
        "    # Set WARMUP_EPOCH larger than 0 to activate warmup training\n",
        "    cfg.OPTIM_VNET.WARMUP_EPOCH = -1\n",
        "    # Either linear or constant\n",
        "    cfg.OPTIM_VNET.WARMUP_TYPE = \"linear\"\n",
        "    # Constant learning rate when type=constant\n",
        "    cfg.OPTIM_VNET.WARMUP_CONS_LR = 1e-5\n",
        "    # Minimum learning rate when type=linear\n",
        "    cfg.OPTIM_VNET.WARMUP_MIN_LR = 1e-5\n",
        "    # Recount epoch for the next scheduler (last_epoch=-1)\n",
        "    # Otherwise last_epoch=warmup_epoch\n",
        "    cfg.OPTIM_VNET.WARMUP_RECOUNT = True\n",
        "\n",
        "def setup_cfg(args):\n",
        "    cfg = get_cfg_default()\n",
        "    extend_cfg(cfg)\n",
        "    # 1. From the dataset config file\n",
        "    if args.dataset_config_file:\n",
        "        cfg.merge_from_file(args.dataset_config_file)\n",
        "    # 2. From the method config file\n",
        "    if args.config_file:\n",
        "        cfg.merge_from_file(args.config_file)\n",
        "    # 3. From input arguments\n",
        "    reset_cfg(cfg, args)\n",
        "    cfg.freeze()\n",
        "    return cfg"
      ],
      "metadata": {
        "id": "H_jVzJWQChw9"
      },
      "execution_count": null,
      "outputs": []
    },
    {
      "cell_type": "markdown",
      "source": [
        "#### 3. Download EuroSAT dataset"
      ],
      "metadata": {
        "id": "2quBDo0n31-0"
      }
    },
    {
      "cell_type": "code",
      "source": [
        "%mkdir outputs\n",
        "%mkdir data\n",
        "\n",
        "%cd data\n",
        "%mkdir eurosat\n",
        "!wget http://madm.dfki.de/files/sentinel/EuroSAT.zip EuroSAT.zip\n",
        "\n",
        "!unzip -o EuroSAT.zip -d eurosat/\n",
        "%cd eurosat\n",
        "!gdown 1Ip7yaCWFi0eaOFUGga0lUdVi_DDQth1o\n",
        "\n",
        "%cd ../../\n"
      ],
      "metadata": {
        "id": "Rq87rDm-kTjY",
        "collapsed": true
      },
      "execution_count": null,
      "outputs": []
    },
    {
      "cell_type": "markdown",
      "source": [
        "The structure of the data folder inside the ProMetaR folder should be as follows:\n",
        "\n",
        "\t•\teurosat/2750\n",
        "\t•\teurosat/split_zhou_EuroSAT.json"
      ],
      "metadata": {
        "id": "9xps7PVzG6qk"
      }
    },
    {
      "cell_type": "markdown",
      "source": [
        "---"
      ],
      "metadata": {
        "id": "ASnsQA9hzahu"
      }
    },
    {
      "cell_type": "markdown",
      "source": [
        "# [2] Load pre-trained CLIP Model"
      ],
      "metadata": {
        "id": "OOUyP2s2dDXQ"
      }
    },
    {
      "cell_type": "code",
      "source": [
        "_tokenizer = _Tokenizer()\n",
        "\n",
        "def load_clip_to_cpu(cfg): # Load CLIP\n",
        "    backbone_name = cfg.MODEL.BACKBONE.NAME\n",
        "    url = clip._MODELS[backbone_name]\n",
        "    model_path = clip._download(url)\n",
        "\n",
        "    try:\n",
        "        # loading JIT archive\n",
        "        model = torch.jit.load(model_path, map_location=\"cpu\").eval()\n",
        "        state_dict = None\n",
        "\n",
        "    except RuntimeError:\n",
        "        state_dict = torch.load(model_path, map_location=\"cpu\")\n",
        "\n",
        "    if cfg.TRAINER.NAME == \"\":\n",
        "      design_trainer = \"CoOp\"\n",
        "    else:\n",
        "      design_trainer = cfg.TRAINER.NAME\n",
        "    design_details = {\"trainer\": design_trainer,\n",
        "                      \"vision_depth\": 0,\n",
        "                      \"language_depth\": 0, \"vision_ctx\": 0,\n",
        "                      \"language_ctx\": 0}\n",
        "    model = clip.build_model(state_dict or model.state_dict(), design_details)\n",
        "\n",
        "    return model"
      ],
      "metadata": {
        "id": "mZlULoCU1j0j"
      },
      "execution_count": null,
      "outputs": []
    },
    {
      "cell_type": "code",
      "source": [
        "from dassl.config import get_cfg_default\n",
        "cfg = get_cfg_default()\n",
        "cfg.MODEL.BACKBONE.NAME = \"ViT-B/16\" # Set the vision encoder backbone of CLIP to ViT.\n",
        "clip_model = load_clip_to_cpu(cfg)"
      ],
      "metadata": {
        "id": "KiyjkEkcXPyR"
      },
      "execution_count": null,
      "outputs": []
    },
    {
      "cell_type": "markdown",
      "source": [
        "### Check CLIP model"
      ],
      "metadata": {
        "id": "NH3Ehw3xNtZy"
      }
    },
    {
      "cell_type": "code",
      "source": [
        "print(clip_model)"
      ],
      "metadata": {
        "id": "vYuHDRDwNxe7"
      },
      "execution_count": null,
      "outputs": []
    },
    {
      "cell_type": "markdown",
      "source": [
        "# [3] CoOpCLIP Implementation\n",
        "\n",
        "CoOpCLIP is composed of pre-trained CLIP Text encoder, pre-trained CLIP Image encoder, and learnable prompt."
      ],
      "metadata": {
        "id": "VgsA4RzQ8yCr"
      }
    },
    {
      "cell_type": "markdown",
      "source": [
        "### Make Module 1: CLIP Text Encoder\n",
        "\n",
        "**Input**\n",
        "- token prefix (SOS token) + learnable prompt + class label + token suffix (CLS token)\n",
        "\n",
        "**Output**\n",
        "- text feature of input prompts"
      ],
      "metadata": {
        "id": "kQY1UE9S1pcx"
      }
    },
    {
      "cell_type": "code",
      "source": [
        "class TextEncoder(nn.Module):\n",
        "    def __init__(self, clip_model):\n",
        "        super().__init__()\n",
        "        self.transformer = clip_model.transformer\n",
        "        self.positional_embedding = clip_model.positional_embedding\n",
        "        self.ln_final = clip_model.ln_final\n",
        "        self.text_projection = clip_model.text_projection\n",
        "        self.dtype = clip_model.dtype\n",
        "\n",
        "    def forward(self, prompts, tokenized_prompts): # Call model forward\n",
        "        x = prompts + self.positional_embedding.type(self.dtype)\n",
        "        x = x.permute(1, 0, 2)  # NLD -> LND\n",
        "        x = self.transformer(x)\n",
        "        x = x.permute(1, 0, 2)  # LND -> NLD\n",
        "        x = self.ln_final(x).type(self.dtype)\n",
        "        x = x[torch.arange(x.shape[0]), tokenized_prompts.argmax(dim=-1)] @ self.text_projection\n",
        "        return x"
      ],
      "metadata": {
        "id": "PPzA8a1n1oaR"
      },
      "execution_count": null,
      "outputs": []
    },
    {
      "cell_type": "markdown",
      "source": [
        "### Make Module 2: CLIP Image Encoder\n",
        "\n",
        "**Input**\n",
        "- image\n",
        "\n",
        "**Output**\n",
        "- image feature"
      ],
      "metadata": {
        "id": "Q17p2MV42W8d"
      }
    },
    {
      "cell_type": "code",
      "source": [
        "print(clip_model.visual)"
      ],
      "metadata": {
        "id": "DAZ0nR2X2WM2"
      },
      "execution_count": null,
      "outputs": []
    },
    {
      "cell_type": "markdown",
      "source": [
        "### Make Module 3: Learnable Prompt\n",
        "\n",
        "**Output**\n",
        "- Learnable prompt"
      ],
      "metadata": {
        "id": "NVL_tLqM2ELT"
      }
    },
    {
      "cell_type": "code",
      "source": [
        "class CoOpPromptLearner(nn.Module):\n",
        "    def __init__(self, cfg, classnames, clip_model):\n",
        "        super().__init__()\n",
        "        n_cls = len(classnames)\n",
        "        n_ctx = cfg.TRAINER.COOP.N_CTX\n",
        "        ctx_init = cfg.TRAINER.COOP.CTX_INIT\n",
        "        dtype = clip_model.dtype\n",
        "        ctx_dim = clip_model.ln_final.weight.shape[0]\n",
        "        clip_imsize = clip_model.visual.input_resolution\n",
        "        cfg_imsize = cfg.INPUT.SIZE[0]\n",
        "        assert cfg_imsize == clip_imsize, f\"cfg_imsize ({cfg_imsize}) must equal to clip_imsize ({clip_imsize})\"\n",
        "\n",
        "        ### Learnable Prompts Initialization ###\n",
        "        if ctx_init:\n",
        "            # use given words to initialize context vectors\n",
        "            ctx_init = ctx_init.replace(\"_\", \" \")\n",
        "            n_ctx = len(ctx_init.split(\" \"))\n",
        "            prompt = clip.tokenize(ctx_init)\n",
        "            with torch.no_grad():\n",
        "                embedding = clip_model.token_embedding(prompt).type(dtype)\n",
        "            ctx_vectors = embedding[0, 1 : 1 + n_ctx, :]\n",
        "            prompt_prefix = ctx_init\n",
        "        else:\n",
        "            # random initialization\n",
        "            if cfg.TRAINER.COOP.CSC:\n",
        "                print(\"Initializing class-specific contexts\")\n",
        "                ctx_vectors = torch.empty(n_cls, n_ctx, ctx_dim, dtype=dtype)\n",
        "            else:\n",
        "                print(\"Initializing a generic context\")\n",
        "                ctx_vectors = torch.empty(n_ctx, ctx_dim, dtype=dtype)\n",
        "            nn.init.normal_(ctx_vectors, std=0.02)\n",
        "            prompt_prefix = \" \".join([\"X\"] * n_ctx)\n",
        "        print(f'Initial context: \"{prompt_prefix}\"')\n",
        "        print(f\"Number of context words (tokens): {n_ctx}\")\n",
        "        self.ctx = nn.Parameter(ctx_vectors)  # Wrap the initialized prompts above as parameters to make them trainable.\n",
        "\n",
        "        ### Tokenize ###\n",
        "        classnames = [name.replace(\"_\", \" \") for name in classnames]  # 예) \"Forest\"\n",
        "        name_lens = [len(_tokenizer.encode(name)) for name in classnames]\n",
        "        prompts = [prompt_prefix + \" \" + name + \".\" for name in classnames] # 예) \"A photo of Forest.\"\n",
        "        tokenized_prompts = torch.cat([clip.tokenize(p) for p in prompts]) # 예) [49406, 320, 1125, 539...]\n",
        "        ################\n",
        "\n",
        "        with torch.no_grad():\n",
        "            embedding = clip_model.token_embedding(tokenized_prompts).type(dtype)\n",
        "        # These token vectors will be saved when in save_model(),\n",
        "        # but they should be ignored in load_model() as we want to use\n",
        "        # those computed using the current class names\n",
        "        self.register_buffer(\"token_prefix\", embedding[:, :1, :])  # SOS (문장의 시작을 알려주는 토큰)\n",
        "        self.register_buffer(\"token_suffix\", embedding[:, 1 + n_ctx :, :])  # CLS, EOS (문장의 끝을 알려주는 토큰)\n",
        "        self.n_cls = n_cls\n",
        "        self.n_ctx = n_ctx\n",
        "        self.tokenized_prompts = tokenized_prompts  # torch.Tensor\n",
        "        self.name_lens = name_lens\n",
        "\n",
        "    def construct_prompts(self, ctx, prefix, suffix, label=None):\n",
        "        # dim0 is either batch_size (during training) or n_cls (during testing)\n",
        "        # ctx: context tokens, with shape of (dim0, n_ctx, ctx_dim)\n",
        "        # prefix: the sos token, with shape of (n_cls, 1, ctx_dim)\n",
        "        # suffix: remaining tokens, with shape of (n_cls, *, ctx_dim)\n",
        "        if label is not None:\n",
        "            prefix = prefix[label]\n",
        "            suffix = suffix[label]\n",
        "        prompts = torch.cat(\n",
        "            [\n",
        "                prefix,  # (dim0, 1, dim)\n",
        "                ctx,  # (dim0, n_ctx, dim)\n",
        "                suffix,  # (dim0, *, dim)\n",
        "            ],\n",
        "            dim=1,\n",
        "        )\n",
        "        return prompts\n",
        "\n",
        "    def forward(self):\n",
        "        ctx = self.ctx\n",
        "        if ctx.dim() == 2:\n",
        "            ctx = ctx.unsqueeze(0).expand(self.n_cls, -1, -1)\n",
        "        prefix = self.token_prefix\n",
        "        suffix = self.token_suffix\n",
        "        prompts = self.construct_prompts(ctx, prefix, suffix) #[시작토큰, Input prompts,끝 토큰]\n",
        "        return prompts"
      ],
      "metadata": {
        "id": "3_YQTO0Y2R1C"
      },
      "execution_count": null,
      "outputs": []
    },
    {
      "cell_type": "markdown",
      "source": [
        "### Make CoOpCLIP (Module1 + Module2 + Module3)\n",
        "\n",
        "**Input**\n",
        "- Image\n",
        "\n",
        "**Output**\n",
        "- Logit\n",
        "\n",
        "**How to compute logit?**\n",
        "- image_features : Image representation $\\mathbf{f}$\n",
        "- text_features : Text representation $g\\left(\\mathbf{t}_i\\right)$\n",
        "- Logit:\n",
        "$p\\left(y=i | \\mathbf{x} \\right) = \\frac{\\exp \\left(\\cos\\left(g\\left(\\mathbf{t}_i\\right),\\mathbf{f} \\right)/\\tau \\right)}{\\sum_{j=1}^K \\exp \\left(\\cos\\left(g\\left(\\mathbf{t}_j\\right),\\mathbf{f} \\right)/\\tau \\right)} $"
      ],
      "metadata": {
        "id": "Howh4jCR-Mst"
      }
    },
    {
      "cell_type": "code",
      "source": [
        "class CoOpCustomCLIP(nn.Module):\n",
        "    def __init__(self, cfg, classnames, clip_model):\n",
        "        super().__init__()\n",
        "        self.prompt_learner = CoOpPromptLearner(cfg, classnames, clip_model)\n",
        "        self.tokenized_prompts = self.prompt_learner.tokenized_prompts\n",
        "        self.image_encoder = clip_model.visual\n",
        "        self.text_encoder = TextEncoder(clip_model)\n",
        "        self.logit_scale = clip_model.logit_scale\n",
        "        self.dtype = clip_model.dtype\n",
        "\n",
        "    def forward(self, image):\n",
        "        image_features = self.image_encoder(image.type(self.dtype))\n",
        "\n",
        "        prompts = self.prompt_learner()\n",
        "        tokenized_prompts = self.tokenized_prompts\n",
        "        text_features = self.text_encoder(prompts, tokenized_prompts)\n",
        "\n",
        "        image_features = image_features / image_features.norm(dim=-1, keepdim=True)\n",
        "        text_features = text_features / text_features.norm(dim=-1, keepdim=True)\n",
        "\n",
        "        logit_scale = self.logit_scale.exp()\n",
        "        logits = logit_scale * image_features @ text_features.t()\n",
        "\n",
        "        return logits"
      ],
      "metadata": {
        "id": "qHIcuAkF-VHX"
      },
      "execution_count": null,
      "outputs": []
    },
    {
      "cell_type": "markdown",
      "source": [
        "# [4] CoOpCLIP Training"
      ],
      "metadata": {
        "id": "95g7yRCT4brR"
      }
    },
    {
      "cell_type": "markdown",
      "source": [
        "#### Training configurations"
      ],
      "metadata": {
        "id": "mXo4-zJJDOYf"
      }
    },
    {
      "cell_type": "code",
      "source": [
        "parser = argparse.ArgumentParser()\n",
        "parser.add_argument(\"--root\", type=str, default=\"data/\", help=\"path to dataset\")\n",
        "parser.add_argument(\"--output-dir\", type=str, default=\"outputs/cocoop3\", help=\"output directory\")\n",
        "parser.add_argument(\n",
        "    \"--seed\", type=int, default=1, help=\"only positive value enables a fixed seed\"\n",
        ")\n",
        "parser.add_argument(\n",
        "    \"--config-file\", type=str, default=\"configs/trainers/ProMetaR/vit_b16_c2_ep10_batch4_4+4ctx.yaml\", help=\"path to config file\"\n",
        ")\n",
        "parser.add_argument(\n",
        "    \"--dataset-config-file\",\n",
        "    type=str,\n",
        "    default=\"configs/datasets/eurosat.yaml\",\n",
        "    help=\"path to config file for dataset setup\",\n",
        ")\n",
        "parser.add_argument(\"--trainer\", type=str, default=\"CoOp\", help=\"name of trainer\")\n",
        "parser.add_argument(\"--eval-only\", action=\"store_true\", help=\"evaluation only\")\n",
        "parser.add_argument(\n",
        "    \"--model-dir\",\n",
        "    type=str,\n",
        "    default=\"\",\n",
        "    help=\"load model from this directory for eval-only mode\",\n",
        ")\n",
        "parser.add_argument(\"--train-batch-size\", type=int, default=4)\n",
        "parser.add_argument(\"--epoch\", type=int, default=10)\n",
        "parser.add_argument(\"--subsample-classes\", type=str, default=\"base\")\n",
        "parser.add_argument(\n",
        "    \"--load-epoch\", type=int, default=0, help=\"load model weights at this epoch for evaluation\"\n",
        ")\n",
        "args = parser.parse_args([])"
      ],
      "metadata": {
        "id": "ZcNsq17FDRzk"
      },
      "execution_count": null,
      "outputs": []
    },
    {
      "cell_type": "markdown",
      "source": [
        "#### Trainer Class"
      ],
      "metadata": {
        "id": "yB0_2nm0C73P"
      }
    },
    {
      "cell_type": "code",
      "source": [
        "@TRAINER_REGISTRY.register(force=True)\n",
        "class CoOp(TrainerX):\n",
        "    \"\"\"Context Optimization (CoOp).\n",
        "\n",
        "    Learning to Prompt for Vision-Language Models\n",
        "    https://arxiv.org/abs/2109.01134\n",
        "    \"\"\"\n",
        "\n",
        "    def check_cfg(self, cfg):\n",
        "        assert cfg.TRAINER.COOP.PREC in [\"fp16\", \"fp32\", \"amp\"]\n",
        "\n",
        "    def build_model(self):\n",
        "        cfg = self.cfg\n",
        "        classnames = self.dm.dataset.classnames\n",
        "\n",
        "        print(f\"Loading CLIP (backbone: {cfg.MODEL.BACKBONE.NAME})\")\n",
        "        clip_model = load_clip_to_cpu(cfg)\n",
        "\n",
        "        if cfg.TRAINER.COOP.PREC == \"fp32\" or cfg.TRAINER.COOP.PREC == \"amp\":\n",
        "            # CLIP's default precision is fp16\n",
        "            clip_model.float()\n",
        "\n",
        "        print(\"Building custom CLIP\")\n",
        "        self.model = CoOpCustomCLIP(cfg, classnames, clip_model)\n",
        "\n",
        "        print(\"Turning off gradients in both the image and the text encoder\")\n",
        "        for name, param in self.model.named_parameters():\n",
        "            if \"prompt_learner\" not in name:\n",
        "                param.requires_grad_(False)\n",
        "\n",
        "        if cfg.MODEL.INIT_WEIGHTS:\n",
        "            load_pretrained_weights(self.model.prompt_learner, cfg.MODEL.INIT_WEIGHTS)\n",
        "\n",
        "        self.model.to(self.device)\n",
        "        # NOTE: only give prompt_learner to the optimizer\n",
        "        self.optim = build_optimizer(self.model.prompt_learner, cfg.OPTIM)\n",
        "        self.sched = build_lr_scheduler(self.optim, cfg.OPTIM)\n",
        "        self.register_model(\"prompt_learner\", self.model.prompt_learner, self.optim, self.sched)\n",
        "\n",
        "        self.scaler = GradScaler() if cfg.TRAINER.COOP.PREC == \"amp\" else None\n",
        "\n",
        "        # Note that multi-gpu training could be slow because CLIP's size is\n",
        "        # big, which slows down the copy operation in DataParallel\n",
        "        device_count = torch.cuda.device_count()\n",
        "        if device_count > 1:\n",
        "            print(f\"Multiple GPUs detected (n_gpus={device_count}), use all of them!\")\n",
        "            self.model = nn.DataParallel(self.model)\n",
        "\n",
        "    def before_train(self):\n",
        "        directory = self.cfg.OUTPUT_DIR\n",
        "        if self.cfg.RESUME:\n",
        "            directory = self.cfg.RESUME\n",
        "        self.start_epoch = self.resume_model_if_exist(directory)\n",
        "\n",
        "        # Remember the starting time (for computing the elapsed time)\n",
        "        self.time_start = time.time()\n",
        "\n",
        "    def forward_backward(self, batch):\n",
        "        image, label = self.parse_batch_train(batch)\n",
        "\n",
        "        prec = self.cfg.TRAINER.COOP.PREC\n",
        "        output = self.model(image)      # Input image 모델 통과\n",
        "        loss = F.cross_entropy(output, label)  # Loss 선언\n",
        "        self.model_backward_and_update(loss)  # Backward 및 모델 parameter 업데이트\n",
        "\n",
        "        loss_summary = {\n",
        "            \"loss\": loss.item(),\n",
        "            \"acc\": compute_accuracy(output, label)[0].item(),\n",
        "        }\n",
        "\n",
        "        if (self.batch_idx + 1) == self.num_batches:\n",
        "            self.update_lr()\n",
        "\n",
        "        return loss_summary\n",
        "\n",
        "    def parse_batch_train(self, batch):\n",
        "        input = batch[\"img\"]\n",
        "        label = batch[\"label\"]\n",
        "        input = input.to(self.device)\n",
        "        label = label.to(self.device)\n",
        "        return input, label\n",
        "\n",
        "    def load_model(self, directory, epoch=None):\n",
        "        if not directory:\n",
        "            print(\"Note that load_model() is skipped as no pretrained model is given\")\n",
        "            return\n",
        "\n",
        "        names = self.get_model_names()\n",
        "\n",
        "        # By default, the best model is loaded\n",
        "        model_file = \"model-best.pth.tar\"\n",
        "\n",
        "        if epoch is not None:\n",
        "            model_file = \"model.pth.tar-\" + str(epoch)\n",
        "\n",
        "        for name in names:\n",
        "            model_path = osp.join(directory, name, model_file)\n",
        "\n",
        "            if not osp.exists(model_path):\n",
        "                raise FileNotFoundError('Model not found at \"{}\"'.format(model_path))\n",
        "\n",
        "            checkpoint = load_checkpoint(model_path)\n",
        "            state_dict = checkpoint[\"state_dict\"]\n",
        "            epoch = checkpoint[\"epoch\"]\n",
        "\n",
        "            # Ignore fixed token vectors\n",
        "            if \"token_prefix\" in state_dict:\n",
        "                del state_dict[\"token_prefix\"]\n",
        "\n",
        "            if \"token_suffix\" in state_dict:\n",
        "                del state_dict[\"token_suffix\"]\n",
        "\n",
        "            print(\"Loading weights to {} \" 'from \"{}\" (epoch = {})'.format(name, model_path, epoch))\n",
        "            # set strict=False\n",
        "            self._models[name].load_state_dict(state_dict, strict=False)\n",
        "\n",
        "    def after_train(self):\n",
        "      print(\"Finish training\")\n",
        "\n",
        "      do_test = not self.cfg.TEST.NO_TEST\n",
        "      if do_test:\n",
        "          if self.cfg.TEST.FINAL_MODEL == \"best_val\":\n",
        "              print(\"Deploy the model with the best val performance\")\n",
        "              self.load_model(self.output_dir)\n",
        "          else:\n",
        "              print(\"Deploy the last-epoch model\")\n",
        "          acc = self.test()\n",
        "\n",
        "      # Show elapsed time\n",
        "      elapsed = round(time.time() - self.time_start)\n",
        "      elapsed = str(datetime.timedelta(seconds=elapsed))\n",
        "      print(f\"Elapsed: {elapsed}\")\n",
        "\n",
        "      # Close writer\n",
        "      self.close_writer()\n",
        "      return acc\n",
        "\n",
        "    def train(self):\n",
        "        \"\"\"Generic training loops.\"\"\"\n",
        "        self.before_train()\n",
        "        for self.epoch in range(self.start_epoch, self.max_epoch):\n",
        "            self.before_epoch()\n",
        "            self.run_epoch()\n",
        "            self.after_epoch()\n",
        "        acc = self.after_train()\n",
        "        return acc\n"
      ],
      "metadata": {
        "id": "ueUiBs_AzMMs"
      },
      "execution_count": null,
      "outputs": []
    },
    {
      "cell_type": "code",
      "source": [
        "def main(args):\n",
        "    cfg = setup_cfg(args)\n",
        "    if cfg.SEED >= 0:\n",
        "        set_random_seed(cfg.SEED)\n",
        "\n",
        "    if torch.cuda.is_available() and cfg.USE_CUDA:\n",
        "        torch.backends.cudnn.benchmark = True\n",
        "\n",
        "    trainer = build_trainer(cfg)\n",
        "    if args.eval_only:\n",
        "        trainer.load_model(args.model_dir, epoch=args.load_epoch)\n",
        "        acc = trainer.test()\n",
        "        return acc\n",
        "\n",
        "    acc = trainer.train()\n",
        "    return acc"
      ],
      "metadata": {
        "id": "5JvkxdV4zKjM"
      },
      "execution_count": null,
      "outputs": []
    },
    {
      "cell_type": "markdown",
      "source": [
        "### Training CoOpCLIP on Base Class\n",
        "- The **Base class** refers to classes that were seen during training.\n",
        "- In contrast, the **New class** refers to classes that were not seen during training."
      ],
      "metadata": {
        "id": "Z51vi3Ws_hFl"
      }
    },
    {
      "cell_type": "code",
      "source": [
        "args.trainer = \"CoOp\"\n",
        "args.train_batch_size = 4\n",
        "args.epoch = 100\n",
        "args.output_dir = \"outputs/coop\"\n",
        "\n",
        "# Train on the Base Classes Train split and evaluate accuracy on the Base Classes Test split.\n",
        "args.subsample_classes = \"base\"\n",
        "coop_base_acc = main(args)"
      ],
      "metadata": {
        "id": "9M4KiMVlmrM8"
      },
      "execution_count": null,
      "outputs": []
    },
    {
      "cell_type": "markdown",
      "source": [
        "### Evaluate CoOpCLIP on New Class"
      ],
      "metadata": {
        "id": "yETA2Zp6Expc"
      }
    },
    {
      "cell_type": "code",
      "source": [
        "# Accuracy on the New Classes.\n",
        "args.model_dir = \"outputs/coop\"\n",
        "args.output_dir = \"outputs/coop/new_classes\"\n",
        "args.subsample_classes = \"new\"\n",
        "args.load_epoch = 100\n",
        "args.eval_only = True\n",
        "coop_novel_acc = main(args)"
      ],
      "metadata": {
        "id": "LB6gek8o_zQv"
      },
      "execution_count": null,
      "outputs": []
    },
    {
      "cell_type": "markdown",
      "source": [
        "### Visualization"
      ],
      "metadata": {
        "id": "BUuWfLBWF8UA"
      }
    },
    {
      "cell_type": "code",
      "source": [
        "import matplotlib.pyplot as plt\n",
        "import numpy as np\n",
        "\n",
        "metrics = ['Base', 'Novel']\n",
        "\n",
        "coop_acc_list = [coop_base_acc, coop_novel_acc]\n",
        "\n",
        "bar_width = 0.35\n",
        "index = np.arange(len(metrics))\n",
        "fig, ax = plt.subplots()\n",
        "bar1 = ax.bar(index, coop_acc_list, bar_width, label='CoOp')\n",
        "\n",
        "ax.set_ylabel('Scores')\n",
        "ax.set_title('Model Performance Comparison')\n",
        "ax.set_xticks(index + bar_width / 2)\n",
        "ax.set_xticklabels(metrics)\n",
        "ax.legend()\n",
        "\n",
        "def add_value_labels(bars):\n",
        "    for bar in bars:\n",
        "        height = bar.get_height()\n",
        "        ax.annotate(f'{height:.2f}', xy=(bar.get_x() + bar.get_width() / 2, height),\n",
        "                    xytext=(0, 2),  # 2 points vertical offset\n",
        "                    textcoords='offset points',\n",
        "                    ha='center', va='bottom')\n",
        "\n",
        "add_value_labels(bar1)\n",
        "plt.tight_layout()\n",
        "plt.show()\n"
      ],
      "metadata": {
        "id": "pZQxA8kiBdsj"
      },
      "execution_count": null,
      "outputs": []
    },
    {
      "cell_type": "code",
      "source": [],
      "metadata": {
        "id": "T1wYnG73km3L"
      },
      "execution_count": null,
      "outputs": []
    }
  ]
}